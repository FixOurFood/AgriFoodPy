{
 "cells": [
  {
   "cell_type": "code",
   "execution_count": 8,
   "metadata": {},
   "outputs": [],
   "source": [
    "import numpy as np\n",
    "import pandas as pd\n",
    "import matplotlib.pyplot as plt\n",
    "import xarray as xr"
   ]
  },
  {
   "cell_type": "markdown",
   "metadata": {},
   "source": [
    "This notebook reads CSV United Nations population tables and produces the numpy arrays to be read by the package when importing the population modules.\n",
    "The original CSV file read in this notebook can be obtained here: https://population.un.org/wpp/Download/Standard/CSV/\n",
    "and accessing the Total Population Sub Group file:\n",
    "https://population.un.org/wpp/Download/Files/1_Indicators%20(Standard)/CSV_FILES/WPP2019_TotalPopulationBySex.csv\n",
    "\n",
    "Population estimates are separated into 9 different *variants* for different combinations of fertility, mortality and international migration (which has different effects on different regions but cancels out at the *world* level).\n",
    "\n",
    "The values used here come from the *median* variant which assumes median fertility and mortality."
   ]
  },
  {
   "cell_type": "code",
   "execution_count": 3,
   "metadata": {},
   "outputs": [
    {
     "data": {
      "text/html": [
       "<div>\n",
       "<style scoped>\n",
       "    .dataframe tbody tr th:only-of-type {\n",
       "        vertical-align: middle;\n",
       "    }\n",
       "\n",
       "    .dataframe tbody tr th {\n",
       "        vertical-align: top;\n",
       "    }\n",
       "\n",
       "    .dataframe thead th {\n",
       "        text-align: right;\n",
       "    }\n",
       "</style>\n",
       "<table border=\"1\" class=\"dataframe\">\n",
       "  <thead>\n",
       "    <tr style=\"text-align: right;\">\n",
       "      <th></th>\n",
       "      <th>LocID</th>\n",
       "      <th>Location</th>\n",
       "      <th>VarID</th>\n",
       "      <th>Variant</th>\n",
       "      <th>Time</th>\n",
       "      <th>MidPeriod</th>\n",
       "      <th>PopMale</th>\n",
       "      <th>PopFemale</th>\n",
       "      <th>PopTotal</th>\n",
       "      <th>PopDensity</th>\n",
       "    </tr>\n",
       "  </thead>\n",
       "  <tbody>\n",
       "    <tr>\n",
       "      <th>0</th>\n",
       "      <td>4</td>\n",
       "      <td>Afghanistan</td>\n",
       "      <td>2</td>\n",
       "      <td>Medium</td>\n",
       "      <td>1950</td>\n",
       "      <td>1950.5</td>\n",
       "      <td>4099.243</td>\n",
       "      <td>3652.874</td>\n",
       "      <td>7752.117</td>\n",
       "      <td>11.874</td>\n",
       "    </tr>\n",
       "    <tr>\n",
       "      <th>1</th>\n",
       "      <td>4</td>\n",
       "      <td>Afghanistan</td>\n",
       "      <td>2</td>\n",
       "      <td>Medium</td>\n",
       "      <td>1951</td>\n",
       "      <td>1951.5</td>\n",
       "      <td>4134.756</td>\n",
       "      <td>3705.395</td>\n",
       "      <td>7840.151</td>\n",
       "      <td>12.009</td>\n",
       "    </tr>\n",
       "    <tr>\n",
       "      <th>2</th>\n",
       "      <td>4</td>\n",
       "      <td>Afghanistan</td>\n",
       "      <td>2</td>\n",
       "      <td>Medium</td>\n",
       "      <td>1952</td>\n",
       "      <td>1952.5</td>\n",
       "      <td>4174.450</td>\n",
       "      <td>3761.546</td>\n",
       "      <td>7935.996</td>\n",
       "      <td>12.156</td>\n",
       "    </tr>\n",
       "    <tr>\n",
       "      <th>3</th>\n",
       "      <td>4</td>\n",
       "      <td>Afghanistan</td>\n",
       "      <td>2</td>\n",
       "      <td>Medium</td>\n",
       "      <td>1953</td>\n",
       "      <td>1953.5</td>\n",
       "      <td>4218.336</td>\n",
       "      <td>3821.348</td>\n",
       "      <td>8039.684</td>\n",
       "      <td>12.315</td>\n",
       "    </tr>\n",
       "    <tr>\n",
       "      <th>4</th>\n",
       "      <td>4</td>\n",
       "      <td>Afghanistan</td>\n",
       "      <td>2</td>\n",
       "      <td>Medium</td>\n",
       "      <td>1954</td>\n",
       "      <td>1954.5</td>\n",
       "      <td>4266.484</td>\n",
       "      <td>3884.832</td>\n",
       "      <td>8151.316</td>\n",
       "      <td>12.486</td>\n",
       "    </tr>\n",
       "  </tbody>\n",
       "</table>\n",
       "</div>"
      ],
      "text/plain": [
       "   LocID     Location  VarID Variant  Time  MidPeriod   PopMale  PopFemale  \\\n",
       "0      4  Afghanistan      2  Medium  1950     1950.5  4099.243   3652.874   \n",
       "1      4  Afghanistan      2  Medium  1951     1951.5  4134.756   3705.395   \n",
       "2      4  Afghanistan      2  Medium  1952     1952.5  4174.450   3761.546   \n",
       "3      4  Afghanistan      2  Medium  1953     1953.5  4218.336   3821.348   \n",
       "4      4  Afghanistan      2  Medium  1954     1954.5  4266.484   3884.832   \n",
       "\n",
       "   PopTotal  PopDensity  \n",
       "0  7752.117      11.874  \n",
       "1  7840.151      12.009  \n",
       "2  7935.996      12.156  \n",
       "3  8039.684      12.315  \n",
       "4  8151.316      12.486  "
      ]
     },
     "execution_count": 3,
     "metadata": {},
     "output_type": "execute_result"
    }
   ],
   "source": [
    "pop = pd.read_csv('../../data/population/WPP2019_TotalPopulationBySex.csv')\n",
    "pop.head()"
   ]
  },
  {
   "cell_type": "code",
   "execution_count": 4,
   "metadata": {},
   "outputs": [],
   "source": [
    "years = pd.unique(pop[\"Time\"])\n",
    "regions = pd.unique(pop[\"LocID\"])\n",
    "variants = pd.unique(pop[\"Variant\"])\n",
    "\n",
    "# Some numpy trickery to get the indices for the area, elements and items\n",
    "iy = np.nonzero(pop['Time'].to_numpy()[:, None] == years)[1]\n",
    "il = np.nonzero(pop['LocID'].to_numpy()[:, None] == regions)[1]\n",
    "iv = np.nonzero(pop['Variant'].to_numpy()[:, None] == variants)[1]\n",
    "\n",
    "# We compute the index in the flattened array\n",
    "ipos = iy * len(regions) * len(variants) + il * len(variants) + iv\n",
    "        \n",
    "ipos = ipos.astype(int)"
   ]
  },
  {
   "cell_type": "code",
   "execution_count": 5,
   "metadata": {},
   "outputs": [],
   "source": [
    "pop_arr = np.ones(len(years)*len(regions)*len(variants))*np.NaN\n",
    "pop_arr[ipos] = pop['PopTotal']\n",
    "\n",
    "pop_arr = pop_arr.reshape(len(years), len(regions), len(variants))"
   ]
  },
  {
   "cell_type": "code",
   "execution_count": 10,
   "metadata": {},
   "outputs": [],
   "source": [
    "data = xr.Dataset(\n",
    "    coords = dict(\n",
    "        Year=(\"Year\", years),\n",
    "        Region=(\"Region\", regions),\n",
    "    )\n",
    ")\n",
    "\n",
    "for iv, variant in enumerate(variants):\n",
    "    data = data.assign({variant:([\"Year\", \"Region\"], pop_arr[:,:,iv])})"
   ]
  },
  {
   "cell_type": "code",
   "execution_count": 14,
   "metadata": {},
   "outputs": [
    {
     "data": {
      "text/plain": [
       "array([   4,  903, 1823, 1560, 2080, 2081, 2082, 2083, 2084, 1200,    8,\n",
       "         12,   16, 1533,   20,   24,  660,   28,   32,   51,  533,  935,\n",
       "       1207, 1824, 1557,   36,  927,   40,   31, 1525, 1526,   44,   48,\n",
       "         50,   52,  112,   56,   84, 2067, 2068, 2069, 2070, 2071, 2072,\n",
       "        204,   60,   64, 1527, 1569,   68,  535,   70,   72,   76,   92,\n",
       "         96,  100,  854,  108,  132,  116,  120,  124,  915, 1530,  136,\n",
       "        140,  916, 5500, 1545,  921,  148,  830,  152,  156, 1105,  344,\n",
       "        446,  158,  170, 1566, 2074, 2075, 2076, 2077, 2078, 2079,  174,\n",
       "        178,  184,  188, 1638, 2094, 2095, 2096, 2097, 2098, 2099,  191,\n",
       "        192,  531,  196,  203,  384,  408,  180,  208, 1106,  262,  212,\n",
       "        214, 1737, 1736, 1744, 1746, 1071, 1074, 1075, 1073, 1072, 2061,\n",
       "       2058, 2059, 2060, 1054, 1057, 1055, 2049, 1060, 1059, 1058, 1056,\n",
       "       2048, 2045, 2046, 2047, 2044, 2053, 1064, 2054, 2050, 1062, 2051,\n",
       "       2055, 1065, 2052, 2056, 2062, 2066, 2065, 2063, 2064, 1765, 1563,\n",
       "        910,  906,  923, 1825, 1832, 1538, 1540, 1547,  218,  818,  222,\n",
       "        226,  232,  233,  748,  231, 1546,  917,  908, 1506, 1829, 1550,\n",
       "       1544, 1549,  986,  238,  234,  242,  246,  250, 1107,  254,  258,\n",
       "        266,  270,  268,  276,  288,  292, 1536,  300,  304,  308, 1556,\n",
       "       1523, 1522, 1524,  312,  316,  320,  324,  624, 1561,  328,  332,\n",
       "       1503,  336,  340,  348,  352,  356,  360,  364,  368,  372,  833,\n",
       "        376,  380,  388,  392,  400,  398,  404,  296,  414,  417, 2087,\n",
       "       2088, 2089, 2090, 1607, 1674, 1636,  418,  904, 1830, 1532, 1826,\n",
       "        428, 1559,  941, 1475, 1476, 1477, 1478,  422,  426,  902,  948,\n",
       "        934, 1479, 1480, 1481, 1482,  430,  434,  438,  440, 1500, 1501,\n",
       "        442,  450,  454,  458,  462,  466,  470,  584,  474,  478,  480,\n",
       "        175,  928,  484,  954,  583,  911, 1517,  492,  496,  499,  500,\n",
       "        901, 1483, 1484, 1485, 1486,  504,  508,  104,  516,  520,  524,\n",
       "        528, 1108,  540, 1552,  554, 1109,  558,  562,  566,  570, 1518,\n",
       "       1615, 1520, 1555,  807,  912, 1833,  905,  918,  924,  580,  578,\n",
       "        909, 1835,  512, 1505, 2086, 2085, 1521, 1570,  586,  585,  591,\n",
       "        598,  600,  604,  608,  616,  957,  620,  630,  634,  410,  498,\n",
       "        642,  643,  646,  638, 2093, 2091, 2092,  652,  654,  659,  662,\n",
       "        663,  666,  670,  882,  674,  678,  682,  686,  688,  690, 2073,\n",
       "        694,  702,  534,  703,  705, 1637,   90,  706,  710,  931, 1321,\n",
       "        728,  920,  913, 1564, 5501, 1534,  925,  724,  144,  275,  947,\n",
       "        729,  740,  752,  756,  760,  762,  764,  626,  768,  772,  776,\n",
       "        780,  788,  792,  795,  796,  798, 1735, 1819, 1611, 1610, 1703,\n",
       "       1612, 1613, 1704, 1818, 1586, 2042, 1587, 1585, 2041, 1589, 1590,\n",
       "       1591, 1592, 2035, 2036, 2034, 2039, 2029, 2031, 2037, 2032, 2038,\n",
       "       2033, 2040, 2030, 1822,  800,  804,  784,  826, 1110, 1730, 1745,\n",
       "       1760, 1599,  834,  850,  840, 1111, 1502,  858,  860,  548,  862,\n",
       "        704, 1509, 1510, 1511, 1512, 1513, 1508, 1820, 1593, 1596, 1595,\n",
       "       1594, 1597, 1598,  876, 1543,  914,  922,  926, 1827,  732,  900,\n",
       "       1801,  887,  894,  716])"
      ]
     },
     "execution_count": 14,
     "metadata": {},
     "output_type": "execute_result"
    }
   ],
   "source": [
    "regions"
   ]
  },
  {
   "cell_type": "code",
   "execution_count": 17,
   "metadata": {},
   "outputs": [
    {
     "data": {
      "text/plain": [
       "[<matplotlib.lines.Line2D at 0x7f04df8372d0>]"
      ]
     },
     "execution_count": 17,
     "metadata": {},
     "output_type": "execute_result"
    },
    {
     "data": {
      "image/png": "[encoded data removed]",
      "text/plain": [
       "<Figure size 432x288 with 1 Axes>"
      ]
     },
     "metadata": {
      "needs_background": "light"
     },
     "output_type": "display_data"
    }
   ],
   "source": [
    "plt.plot(data.Medium.sel(Region=900))"
   ]
  },
  {
   "cell_type": "code",
   "execution_count": 19,
   "metadata": {},
   "outputs": [],
   "source": [
    "encoding = {}\n",
    "\n",
    "for variant in variants:\n",
    "    encoding[variant] = {\"dtype\":\"float32\", \"zlib\": True, \"complevel\": 5}\n",
    "\n",
    "data.to_netcdf(\"../../agrifoodpy/population/data/UN.nc\", encoding = encoding)"
   ]
  }
 ],
 "metadata": {
  "kernelspec": {
   "display_name": "Python 3",
   "language": "python",
   "name": "python3"
  },
  "language_info": {
   "codemirror_mode": {
    "name": "ipython",
    "version": 3
   },
   "file_extension": ".py",
   "mimetype": "text/x-python",
   "name": "python",
   "nbconvert_exporter": "python",
   "pygments_lexer": "ipython3",
   "version": "3.7.11"
  }
 },
 "nbformat": 4,
 "nbformat_minor": 2
}

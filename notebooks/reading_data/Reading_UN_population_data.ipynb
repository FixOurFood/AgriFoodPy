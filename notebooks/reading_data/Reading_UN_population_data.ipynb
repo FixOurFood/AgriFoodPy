{
 "cells": [
  {
   "cell_type": "code",
   "execution_count": 1,
   "metadata": {},
   "outputs": [],
   "source": [
    "import numpy as np\n",
    "import pandas as pd\n",
    "import matplotlib.pyplot as plt"
   ]
  },
  {
   "cell_type": "markdown",
   "metadata": {},
   "source": [
    "This notebook reads CSV United Nations population tables and produces the numpy arrays to be read by the package when importing the population modules.\n",
    "The original CSV file read in this notebook can be obtained here: https://population.un.org/wpp/Download/Standard/CSV/\n",
    "and accessing the Total Population Sub Group file:\n",
    "https://population.un.org/wpp/Download/Files/1_Indicators%20(Standard)/CSV_FILES/WPP2019_TotalPopulationBySex.csv\n",
    "\n",
    "Population estimates are separated into 9 different *variants* for different combinations of fertility, mortality and international migration (which has different effects on different regions but cancels out at the *world* level).\n",
    "\n",
    "The values used here come from the *median* variant which assumes median fertility and mortality."
   ]
  },
  {
   "cell_type": "code",
   "execution_count": 2,
   "metadata": {},
   "outputs": [
    {
     "data": {
      "text/html": [
       "<div>\n",
       "<style scoped>\n",
       "    .dataframe tbody tr th:only-of-type {\n",
       "        vertical-align: middle;\n",
       "    }\n",
       "\n",
       "    .dataframe tbody tr th {\n",
       "        vertical-align: top;\n",
       "    }\n",
       "\n",
       "    .dataframe thead th {\n",
       "        text-align: right;\n",
       "    }\n",
       "</style>\n",
       "<table border=\"1\" class=\"dataframe\">\n",
       "  <thead>\n",
       "    <tr style=\"text-align: right;\">\n",
       "      <th></th>\n",
       "      <th>LocID</th>\n",
       "      <th>Location</th>\n",
       "      <th>VarID</th>\n",
       "      <th>Variant</th>\n",
       "      <th>Time</th>\n",
       "      <th>MidPeriod</th>\n",
       "      <th>PopMale</th>\n",
       "      <th>PopFemale</th>\n",
       "      <th>PopTotal</th>\n",
       "      <th>PopDensity</th>\n",
       "    </tr>\n",
       "  </thead>\n",
       "  <tbody>\n",
       "    <tr>\n",
       "      <td>0</td>\n",
       "      <td>4</td>\n",
       "      <td>Afghanistan</td>\n",
       "      <td>2</td>\n",
       "      <td>Medium</td>\n",
       "      <td>1950</td>\n",
       "      <td>1950.5</td>\n",
       "      <td>4099.243</td>\n",
       "      <td>3652.874</td>\n",
       "      <td>7752.117</td>\n",
       "      <td>11.874</td>\n",
       "    </tr>\n",
       "    <tr>\n",
       "      <td>1</td>\n",
       "      <td>4</td>\n",
       "      <td>Afghanistan</td>\n",
       "      <td>2</td>\n",
       "      <td>Medium</td>\n",
       "      <td>1951</td>\n",
       "      <td>1951.5</td>\n",
       "      <td>4134.756</td>\n",
       "      <td>3705.395</td>\n",
       "      <td>7840.151</td>\n",
       "      <td>12.009</td>\n",
       "    </tr>\n",
       "    <tr>\n",
       "      <td>2</td>\n",
       "      <td>4</td>\n",
       "      <td>Afghanistan</td>\n",
       "      <td>2</td>\n",
       "      <td>Medium</td>\n",
       "      <td>1952</td>\n",
       "      <td>1952.5</td>\n",
       "      <td>4174.450</td>\n",
       "      <td>3761.546</td>\n",
       "      <td>7935.996</td>\n",
       "      <td>12.156</td>\n",
       "    </tr>\n",
       "    <tr>\n",
       "      <td>3</td>\n",
       "      <td>4</td>\n",
       "      <td>Afghanistan</td>\n",
       "      <td>2</td>\n",
       "      <td>Medium</td>\n",
       "      <td>1953</td>\n",
       "      <td>1953.5</td>\n",
       "      <td>4218.336</td>\n",
       "      <td>3821.348</td>\n",
       "      <td>8039.684</td>\n",
       "      <td>12.315</td>\n",
       "    </tr>\n",
       "    <tr>\n",
       "      <td>4</td>\n",
       "      <td>4</td>\n",
       "      <td>Afghanistan</td>\n",
       "      <td>2</td>\n",
       "      <td>Medium</td>\n",
       "      <td>1954</td>\n",
       "      <td>1954.5</td>\n",
       "      <td>4266.484</td>\n",
       "      <td>3884.832</td>\n",
       "      <td>8151.316</td>\n",
       "      <td>12.486</td>\n",
       "    </tr>\n",
       "  </tbody>\n",
       "</table>\n",
       "</div>"
      ],
      "text/plain": [
       "   LocID     Location  VarID Variant  Time  MidPeriod   PopMale  PopFemale  \\\n",
       "0      4  Afghanistan      2  Medium  1950     1950.5  4099.243   3652.874   \n",
       "1      4  Afghanistan      2  Medium  1951     1951.5  4134.756   3705.395   \n",
       "2      4  Afghanistan      2  Medium  1952     1952.5  4174.450   3761.546   \n",
       "3      4  Afghanistan      2  Medium  1953     1953.5  4218.336   3821.348   \n",
       "4      4  Afghanistan      2  Medium  1954     1954.5  4266.484   3884.832   \n",
       "\n",
       "   PopTotal  PopDensity  \n",
       "0  7752.117      11.874  \n",
       "1  7840.151      12.009  \n",
       "2  7935.996      12.156  \n",
       "3  8039.684      12.315  \n",
       "4  8151.316      12.486  "
      ]
     },
     "execution_count": 2,
     "metadata": {},
     "output_type": "execute_result"
    }
   ],
   "source": [
    "pop = pd.read_csv('../../data/population/WPP2019_TotalPopulationBySex.csv')\n",
    "pop.head()"
   ]
  },
  {
   "cell_type": "code",
   "execution_count": 3,
   "metadata": {},
   "outputs": [],
   "source": [
    "variants = ['Medium',\n",
    "            'High',\n",
    "            'Low',\n",
    "            'Constant fertility',\n",
    "            'Instant replacement',\n",
    "            'Zero migration',\n",
    "            'Constant mortality',\n",
    "            'No change',\n",
    "            'Momentum'\n",
    "           ]\n",
    "\n",
    "# First variant has estimated data from 1950 to 2019 but we are only interested in the 1961-2018 range\n",
    "years = np.arange(2020,2101)\n",
    "years_past = np.arange(1961, 2020)\n",
    "world_pop = np.zeros((len(variants), len(years)))\n",
    "\n",
    "past_pop = np.array(1000 * pop[(pop['LocID'] == 900) & (pop['VarID'] == 2)]['PopTotal'][11:70])\n",
    "world_pop[0] = 1000 * pop[(pop['LocID'] == 900) & (pop['VarID'] == 2)]['PopTotal'][70:]\n",
    "\n",
    "# The rest of the variants show only projections for 2020-2100 and do not repeat past estimated data \n",
    "for ivar in range(1,len(variants)):\n",
    "    # VarID starts at 2\n",
    "    world_pop[ivar] = 1000*pop[(pop['LocID'] == 900) & (pop['VarID'] == ivar + 2)]['PopTotal']\n"
   ]
  },
  {
   "cell_type": "code",
   "execution_count": 4,
   "metadata": {},
   "outputs": [
    {
     "data": {
      "text/plain": [
       "Text(0, 0.5, 'Population')"
      ]
     },
     "execution_count": 4,
     "metadata": {},
     "output_type": "execute_result"
    },
    {
     "data": {
      "image/png": "[encoded data removed]",
      "text/plain": [
       "<Figure size 504x432 with 1 Axes>"
      ]
     },
     "metadata": {
      "needs_background": "light"
     },
     "output_type": "display_data"
    }
   ],
   "source": [
    "plt.figure(figsize=(7,6))\n",
    "for ivar, var in enumerate(variants):\n",
    "    plt.plot(years, world_pop[ivar], label=var)\n",
    "    \n",
    "plt.text(2020, 1.5e10, \"\"\"Notice how 'Medium' and \n",
    "'Zero migration' look \n",
    "exactly the same\"\"\")\n",
    "plt.plot(years_past, past_pop, label = 'Past population')\n",
    "plt.legend()\n",
    "plt.xlabel('Year', size=15)\n",
    "plt.ylabel('Population', size=15)"
   ]
  },
  {
   "cell_type": "code",
   "execution_count": 5,
   "metadata": {},
   "outputs": [],
   "source": [
    "median_world_pop = pop[(pop['Location']=='World') & (pop['Variant']=='Medium')][['LocID', 'Time', 'PopTotal']]\n",
    "median_world_pop_estimation = median_world_pop[median_world_pop['Time'] < 2020]\n",
    "median_world_pop_projection = median_world_pop[median_world_pop['Time'] >= 2020]"
   ]
  },
  {
   "cell_type": "code",
   "execution_count": 6,
   "metadata": {},
   "outputs": [
    {
     "data": {
      "text/html": [
       "<div>\n",
       "<style scoped>\n",
       "    .dataframe tbody tr th:only-of-type {\n",
       "        vertical-align: middle;\n",
       "    }\n",
       "\n",
       "    .dataframe tbody tr th {\n",
       "        vertical-align: top;\n",
       "    }\n",
       "\n",
       "    .dataframe thead th {\n",
       "        text-align: right;\n",
       "    }\n",
       "</style>\n",
       "<table border=\"1\" class=\"dataframe\">\n",
       "  <thead>\n",
       "    <tr style=\"text-align: right;\">\n",
       "      <th></th>\n",
       "      <th>LocID</th>\n",
       "      <th>Time</th>\n",
       "      <th>PopTotal</th>\n",
       "    </tr>\n",
       "  </thead>\n",
       "  <tbody>\n",
       "    <tr>\n",
       "      <td>277313</td>\n",
       "      <td>900</td>\n",
       "      <td>2018</td>\n",
       "      <td>7631091.113</td>\n",
       "    </tr>\n",
       "    <tr>\n",
       "      <td>277314</td>\n",
       "      <td>900</td>\n",
       "      <td>2019</td>\n",
       "      <td>7713468.205</td>\n",
       "    </tr>\n",
       "  </tbody>\n",
       "</table>\n",
       "</div>"
      ],
      "text/plain": [
       "        LocID  Time     PopTotal\n",
       "277313    900  2018  7631091.113\n",
       "277314    900  2019  7713468.205"
      ]
     },
     "execution_count": 6,
     "metadata": {},
     "output_type": "execute_result"
    }
   ],
   "source": [
    "median_world_pop_estimation.tail(2)"
   ]
  },
  {
   "cell_type": "code",
   "execution_count": 7,
   "metadata": {},
   "outputs": [
    {
     "data": {
      "text/html": [
       "<div>\n",
       "<style scoped>\n",
       "    .dataframe tbody tr th:only-of-type {\n",
       "        vertical-align: middle;\n",
       "    }\n",
       "\n",
       "    .dataframe tbody tr th {\n",
       "        vertical-align: top;\n",
       "    }\n",
       "\n",
       "    .dataframe thead th {\n",
       "        text-align: right;\n",
       "    }\n",
       "</style>\n",
       "<table border=\"1\" class=\"dataframe\">\n",
       "  <thead>\n",
       "    <tr style=\"text-align: right;\">\n",
       "      <th></th>\n",
       "      <th>LocID</th>\n",
       "      <th>Time</th>\n",
       "      <th>PopTotal</th>\n",
       "    </tr>\n",
       "  </thead>\n",
       "  <tbody>\n",
       "    <tr>\n",
       "      <td>277315</td>\n",
       "      <td>900</td>\n",
       "      <td>2020</td>\n",
       "      <td>7794798.729</td>\n",
       "    </tr>\n",
       "    <tr>\n",
       "      <td>277316</td>\n",
       "      <td>900</td>\n",
       "      <td>2021</td>\n",
       "      <td>7874965.732</td>\n",
       "    </tr>\n",
       "    <tr>\n",
       "      <td>277317</td>\n",
       "      <td>900</td>\n",
       "      <td>2022</td>\n",
       "      <td>7953952.577</td>\n",
       "    </tr>\n",
       "    <tr>\n",
       "      <td>277318</td>\n",
       "      <td>900</td>\n",
       "      <td>2023</td>\n",
       "      <td>8031800.338</td>\n",
       "    </tr>\n",
       "    <tr>\n",
       "      <td>277319</td>\n",
       "      <td>900</td>\n",
       "      <td>2024</td>\n",
       "      <td>8108605.255</td>\n",
       "    </tr>\n",
       "  </tbody>\n",
       "</table>\n",
       "</div>"
      ],
      "text/plain": [
       "        LocID  Time     PopTotal\n",
       "277315    900  2020  7794798.729\n",
       "277316    900  2021  7874965.732\n",
       "277317    900  2022  7953952.577\n",
       "277318    900  2023  8031800.338\n",
       "277319    900  2024  8108605.255"
      ]
     },
     "execution_count": 7,
     "metadata": {},
     "output_type": "execute_result"
    }
   ],
   "source": [
    "median_world_pop_projection.head()"
   ]
  },
  {
   "cell_type": "code",
   "execution_count": 8,
   "metadata": {},
   "outputs": [],
   "source": [
    "median_world_pop_estimation.to_csv('../../pyourfood/population/data/UN_world_1950_2019.csv')\n",
    "median_world_pop_projection.to_csv('../../pyourfood/population/data/UN_world_2020_2100.csv')"
   ]
  }
 ],
 "metadata": {
  "kernelspec": {
   "display_name": "Python 3",
   "language": "python",
   "name": "python3"
  },
  "language_info": {
   "codemirror_mode": {
    "name": "ipython",
    "version": 3
   },
   "file_extension": ".py",
   "mimetype": "text/x-python",
   "name": "python",
   "nbconvert_exporter": "python",
   "pygments_lexer": "ipython3",
   "version": "3.7.4"
  }
 },
 "nbformat": 4,
 "nbformat_minor": 2
}

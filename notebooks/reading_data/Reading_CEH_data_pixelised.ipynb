{
 "cells": [
  {
   "cell_type": "code",
   "execution_count": 1,
   "id": "1d3dce1a",
   "metadata": {},
   "outputs": [],
   "source": [
    "import fiona\n",
    "import geopandas as gpd\n",
    "import matplotlib.pyplot as plt\n",
    "import healpy as hp\n",
    "import xarray as xr"
   ]
  },
  {
   "cell_type": "markdown",
   "id": "5276b59f",
   "metadata": {},
   "source": [
    "# CEH crop data\n",
    "\n",
    "The UK Centre for Ecology and Hydrology Land Cover Plus crop maps (https://www.ceh.ac.uk/services/ceh-land-cover-plus-crops-2015) use remote sensing data from two satellites, Copernicus Sentinel-1 C-band SAR and Sentinel-2 optical imaging, to generate a catalog of land parcels classified by crop types.\n",
    "Data can be accessed through a free academic licence from Digimap (https://digimap.edina.ac.uk/environment), going to 'Environment Data Download'.\n",
    "\n",
    "To get the data select an area of interest on the map using the drawing tools and then select the desired dataset for the selected area. Land Cover Plus provides data for the 2016-2020 year range.\n",
    "After adding the datasets to the basket and checking out, a confirmation email is sent to get access to the files in `.gdb` format.\n",
    "The naming of the files depends on the ID of the data query, hence we rename them here for clarity.\n",
    "\n",
    "In this notebook we plot the positions and crop types within the historic county of Yorkshire.\n",
    "To obtain the Yorkshire county boundaries we use Boundary-Lane data from the Ordnance Survey Data Hub https://osdatahub.os.uk/downloads/open/BoundaryLine, which can be accessed for free by selecting the GeoPackage data format, and extracting the `bdline_gb.gpkg` file.\n",
    "\n",
    "Then, a CSV file containing positions, area, and crop types is generated and saved for use in the package."
   ]
  },
  {
   "cell_type": "code",
   "execution_count": 2,
   "id": "9aa4f316",
   "metadata": {},
   "outputs": [],
   "source": [
    "# Resolution in meters\n",
    "resolution = 500\n",
    "\n",
    "# Year 2016 - \n",
    "years = np.arange(2016,2022)\n",
    "\n",
    "border_file = '../../data/land/bdline_gb.gpkg' \n",
    "crop_files = [f'../../data/land/CEH/UK_CEH_Crops_{year}.gdb' for year in years]"
   ]
  },
  {
   "cell_type": "code",
   "execution_count": 3,
   "id": "ea3d10e2",
   "metadata": {},
   "outputs": [
    {
     "data": {
      "text/plain": [
       "['boundary_line_ceremonial_counties',\n",
       " 'boundary_line_historic_counties',\n",
       " 'community_ward',\n",
       " 'country_region',\n",
       " 'county',\n",
       " 'county_electoral_division',\n",
       " 'district_borough_unitary',\n",
       " 'district_borough_unitary_ward',\n",
       " 'english_region',\n",
       " 'greater_london_const',\n",
       " 'high_water',\n",
       " 'historic_european_region',\n",
       " 'parish',\n",
       " 'polling_districts_england',\n",
       " 'scotland_and_wales_const',\n",
       " 'scotland_and_wales_region',\n",
       " 'unitary_electoral_division',\n",
       " 'westminster_const']"
      ]
     },
     "execution_count": 3,
     "metadata": {},
     "output_type": "execute_result"
    }
   ],
   "source": [
    "fiona.listlayers(border_file)"
   ]
  },
  {
   "cell_type": "code",
   "execution_count": 4,
   "id": "cd41b449",
   "metadata": {
    "scrolled": false
   },
   "outputs": [
    {
     "data": {
      "text/html": [
       "<div>\n",
       "<style scoped>\n",
       "    .dataframe tbody tr th:only-of-type {\n",
       "        vertical-align: middle;\n",
       "    }\n",
       "\n",
       "    .dataframe tbody tr th {\n",
       "        vertical-align: top;\n",
       "    }\n",
       "\n",
       "    .dataframe thead th {\n",
       "        text-align: right;\n",
       "    }\n",
       "</style>\n",
       "<table border=\"1\" class=\"dataframe\">\n",
       "  <thead>\n",
       "    <tr style=\"text-align: right;\">\n",
       "      <th></th>\n",
       "      <th>Name</th>\n",
       "      <th>Area_Description</th>\n",
       "      <th>geometry</th>\n",
       "    </tr>\n",
       "  </thead>\n",
       "  <tbody>\n",
       "    <tr>\n",
       "      <th>0</th>\n",
       "      <td>Berkshire</td>\n",
       "      <td>Historic County</td>\n",
       "      <td>MULTIPOLYGON (((422004.502 199086.601, 422030....</td>\n",
       "    </tr>\n",
       "    <tr>\n",
       "      <th>1</th>\n",
       "      <td>Buckinghamshire</td>\n",
       "      <td>Historic County</td>\n",
       "      <td>MULTIPOLYGON (((460619.899 235588.003, 460625....</td>\n",
       "    </tr>\n",
       "    <tr>\n",
       "      <th>2</th>\n",
       "      <td>Hertfordshire</td>\n",
       "      <td>Historic County</td>\n",
       "      <td>MULTIPOLYGON (((499772.602 215220.503, 499795....</td>\n",
       "    </tr>\n",
       "    <tr>\n",
       "      <th>3</th>\n",
       "      <td>Herefordshire</td>\n",
       "      <td>Historic County</td>\n",
       "      <td>MULTIPOLYGON (((335069.501 272770.499, 335082....</td>\n",
       "    </tr>\n",
       "    <tr>\n",
       "      <th>4</th>\n",
       "      <td>Oxfordshire</td>\n",
       "      <td>Historic County</td>\n",
       "      <td>MULTIPOLYGON (((424473.304 224921.896, 424502....</td>\n",
       "    </tr>\n",
       "    <tr>\n",
       "      <th>...</th>\n",
       "      <td>...</td>\n",
       "      <td>...</td>\n",
       "      <td>...</td>\n",
       "    </tr>\n",
       "    <tr>\n",
       "      <th>90</th>\n",
       "      <td>Warwickshire</td>\n",
       "      <td>Historic County</td>\n",
       "      <td>MULTIPOLYGON (((456472.501 274014.303, 456299....</td>\n",
       "    </tr>\n",
       "    <tr>\n",
       "      <th>91</th>\n",
       "      <td>Dorset</td>\n",
       "      <td>Historic County</td>\n",
       "      <td>MULTIPOLYGON (((333203.198 91375.703, 333185.9...</td>\n",
       "    </tr>\n",
       "    <tr>\n",
       "      <th>92</th>\n",
       "      <td>Devon</td>\n",
       "      <td>Historic County</td>\n",
       "      <td>MULTIPOLYGON (((333223.945 91353.145, 333218.0...</td>\n",
       "    </tr>\n",
       "    <tr>\n",
       "      <th>93</th>\n",
       "      <td>Banffshire</td>\n",
       "      <td>Historic County</td>\n",
       "      <td>MULTIPOLYGON (((349516.703 868874.397, 349519....</td>\n",
       "    </tr>\n",
       "    <tr>\n",
       "      <th>94</th>\n",
       "      <td>Nairn</td>\n",
       "      <td>Historic County</td>\n",
       "      <td>MULTIPOLYGON (((320000.101 871554.799, 320029....</td>\n",
       "    </tr>\n",
       "  </tbody>\n",
       "</table>\n",
       "<p>95 rows × 3 columns</p>\n",
       "</div>"
      ],
      "text/plain": [
       "               Name Area_Description  \\\n",
       "0         Berkshire  Historic County   \n",
       "1   Buckinghamshire  Historic County   \n",
       "2     Hertfordshire  Historic County   \n",
       "3     Herefordshire  Historic County   \n",
       "4       Oxfordshire  Historic County   \n",
       "..              ...              ...   \n",
       "90     Warwickshire  Historic County   \n",
       "91           Dorset  Historic County   \n",
       "92            Devon  Historic County   \n",
       "93       Banffshire  Historic County   \n",
       "94            Nairn  Historic County   \n",
       "\n",
       "                                             geometry  \n",
       "0   MULTIPOLYGON (((422004.502 199086.601, 422030....  \n",
       "1   MULTIPOLYGON (((460619.899 235588.003, 460625....  \n",
       "2   MULTIPOLYGON (((499772.602 215220.503, 499795....  \n",
       "3   MULTIPOLYGON (((335069.501 272770.499, 335082....  \n",
       "4   MULTIPOLYGON (((424473.304 224921.896, 424502....  \n",
       "..                                                ...  \n",
       "90  MULTIPOLYGON (((456472.501 274014.303, 456299....  \n",
       "91  MULTIPOLYGON (((333203.198 91375.703, 333185.9...  \n",
       "92  MULTIPOLYGON (((333223.945 91353.145, 333218.0...  \n",
       "93  MULTIPOLYGON (((349516.703 868874.397, 349519....  \n",
       "94  MULTIPOLYGON (((320000.101 871554.799, 320029....  \n",
       "\n",
       "[95 rows x 3 columns]"
      ]
     },
     "execution_count": 4,
     "metadata": {},
     "output_type": "execute_result"
    }
   ],
   "source": [
    "# Yorkshire = 66\n",
    "counties = gpd.read_file(border_file, layer='boundary_line_historic_counties')\n",
    "polygon = counties['geometry'].iloc[66]\n",
    "counties"
   ]
  },
  {
   "cell_type": "code",
   "execution_count": 5,
   "id": "5003d864",
   "metadata": {},
   "outputs": [
    {
     "name": "stdout",
     "output_type": "stream",
     "text": [
      "357386.0036 378555.099 542313.704 529856.1995\n",
      "[370 303]\n"
     ]
    }
   ],
   "source": [
    "xmin, ymin, xmax, ymax = polygon.bounds\n",
    "print(xmin, ymin, xmax, ymax)\n",
    "size = np.ceil([(xmax - xmin)/resolution, (ymax - ymin)/resolution]).astype(int)\n",
    "\n",
    "binsx = np.linspace(xmin, xmax, size[0]+1)\n",
    "binsy = np.linspace(ymin, ymax, size[1]+1)\n",
    "\n",
    "print(size)"
   ]
  },
  {
   "cell_type": "code",
   "execution_count": 6,
   "id": "02811f85",
   "metadata": {},
   "outputs": [
    {
     "name": "stdout",
     "output_type": "stream",
     "text": [
      "{'be': 0, 'fb': 1, 'gr': 2, 'ma': 3, 'or': 4, 'ot': 5, 'pe': 6, 'po': 7, 'sb': 8, 'sl': 9, 'so': 10, 'sw': 11, 'wb': 12, 'wo': 13, 'ww': 14}\n"
     ]
    }
   ],
   "source": [
    "crop0 = gpd.read_file(crop_files[5], mask = polygon)\n",
    "\n",
    "crop_codes = np.unique(crop0['crop_code'])\n",
    "code_dict = dict(zip(crop_codes, np.arange(len(crop_codes))))\n",
    "print(code_dict)"
   ]
  },
  {
   "cell_type": "code",
   "execution_count": null,
   "id": "16af4d25",
   "metadata": {},
   "outputs": [
    {
     "name": "stdout",
     "output_type": "stream",
     "text": [
      "2016\n",
      "2017\n",
      "2018\n",
      "2019\n"
     ]
    }
   ],
   "source": [
    "areas = np.zeros((len(years), len(crop_codes), size[1], size[0]))\n",
    "\n",
    "for iyear in range(len(years)):\n",
    "    print(years[iyear])\n",
    "    \n",
    "    crops = gpd.read_file(crop_files[iyear], mask = polygon)\n",
    "\n",
    "    crops_simple = crops.drop(columns = ['poly_id', 'parent', 'gid'])\n",
    "    crops_simple['geometry'] = crops_simple.centroid\n",
    "    crops_simple['area'] = crops.area\n",
    "\n",
    "    posx = crops_simple['geometry'].x.to_numpy()\n",
    "    posy = crops_simple['geometry'].y.to_numpy()\n",
    "\n",
    "    ix = np.digitize(posx, binsx)\n",
    "    ix[ix==size[0]] = size[0]-1\n",
    "    iy = np.digitize(posy, binsy)\n",
    "    iy[iy==size[1]] = size[1]-1\n",
    "    \n",
    "    ctype = crops_simple['crop_code']\n",
    "    itype = np.zeros(len(crops_simple), dtype=int)\n",
    "\n",
    "    for it, t in enumerate(ctype):\n",
    "        itype[it] = code_dict[t]\n",
    "\n",
    "    areas[iyear, itype, iy, ix] += crops_simple['area']\n",
    "areas[areas==0]=np.nan"
   ]
  },
  {
   "cell_type": "code",
   "execution_count": null,
   "id": "4d8e67e4",
   "metadata": {},
   "outputs": [],
   "source": [
    "xcoords = 0.5 * (binsx[1:] + binsx[:-1])\n",
    "ycoords = 0.5 * (binsy[1:] + binsy[:-1])\n",
    "\n",
    "data = xr.DataArray(areas, dims=(\"Year\", \"Type\", \"y\", \"x\"), coords={\"Year\":years, \"Type\":crop_codes, \"x\":xcoords, \"y\":ycoords})"
   ]
  },
  {
   "cell_type": "code",
   "execution_count": null,
   "id": "c1b750c7",
   "metadata": {},
   "outputs": [],
   "source": [
    "data"
   ]
  },
  {
   "cell_type": "code",
   "execution_count": null,
   "id": "57c5f5c6",
   "metadata": {},
   "outputs": [],
   "source": [
    "plt.figure(figsize=(10,10))\n",
    "plt.imshow(data.sel(Year=2016, Type='gr'), interpolation='none', origin='lower')"
   ]
  },
  {
   "cell_type": "code",
   "execution_count": null,
   "id": "e1adb157",
   "metadata": {},
   "outputs": [],
   "source": [
    "data.to_netcdf(f\"../../pyourfood/land/data/CEH_{resolution}.nc\")"
   ]
  }
 ],
 "metadata": {
  "kernelspec": {
   "display_name": "Python 3",
   "language": "python",
   "name": "python3"
  },
  "language_info": {
   "codemirror_mode": {
    "name": "ipython",
    "version": 3
   },
   "file_extension": ".py",
   "mimetype": "text/x-python",
   "name": "python",
   "nbconvert_exporter": "python",
   "pygments_lexer": "ipython3",
   "version": "3.7.11"
  }
 },
 "nbformat": 4,
 "nbformat_minor": 5
}

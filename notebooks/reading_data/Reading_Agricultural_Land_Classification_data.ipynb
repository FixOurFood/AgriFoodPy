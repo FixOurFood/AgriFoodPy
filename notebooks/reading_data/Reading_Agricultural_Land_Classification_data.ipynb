{
 "cells": [
  {
   "cell_type": "markdown",
   "metadata": {},
   "source": [
    "Agricultural Land Classification data for England can be downloaded here https://data.gov.uk/dataset/952421ec-da63-4569-817d-4d6399df40a1/provisional-agricultural-land-classification-alc \n",
    "\n",
    "Leave the 'Full dataset' toggle checked and choose your favourite format. \n",
    "\n",
    "Here we use gdb guessing which one will be best... I have no idea.. \n",
    "\n",
    "When you click on the big down arrow, you should get a file called NE_AgriculturalLandClassificationProvisionalEngland_FGDB_Full.zip \n",
    "\n",
    "Unzip this, and you'll have a lot of files. The one you need is ?? tbc??!"
   ]
  },
  {
   "cell_type": "code",
   "execution_count": null,
   "metadata": {},
   "outputs": [],
   "source": []
  }
 ],
 "metadata": {
  "kernelspec": {
   "display_name": "Python 3 (ipykernel)",
   "language": "python",
   "name": "python3"
  },
  "language_info": {
   "codemirror_mode": {
    "name": "ipython",
    "version": 3
   },
   "file_extension": ".py",
   "mimetype": "text/x-python",
   "name": "python",
   "nbconvert_exporter": "python",
   "pygments_lexer": "ipython3",
   "version": "3.9.7"
  }
 },
 "nbformat": 4,
 "nbformat_minor": 2
}

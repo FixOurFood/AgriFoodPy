{
 "cells": [
  {
   "cell_type": "code",
   "execution_count": 1,
   "metadata": {},
   "outputs": [],
   "source": [
    "import pandas as pd\n",
    "import numpy as np\n",
    "import matplotlib.pyplot as plt\n",
    "import calendar"
   ]
  },
  {
   "cell_type": "markdown",
   "metadata": {},
   "source": [
    "The FixOurFood Dashboard utilizes food supply data from FAOSTAT to describe dietary patterns and estimate their impact and the impact of interventions on multiple indicators derived from it.\n",
    "Latest FAOSTAT data can be downloaded from the FAO website:\n",
    "- https://www.fao.org/faostat/en/#data/FBSH for data released until 2013 utilizing old methodology\n",
    "- https://www.fao.org/faostat/en/#data/FBS for data published since 2014 utilizing new methodology\n",
    "\n",
    "The raw datasets are obtained directly from both sites using the following filtering:\n",
    "\n",
    "- Countries: United Kingdom of Great Britain and Northern Ireland\n",
    "- Elements: Food, Food supply, Food supply quantity, Fat supply quantity, Protein supply quantity \n",
    "- Items: Select all except *Population*\n",
    "- Years: Select all for FBSH and 2014-2019 for FBS \n",
    "\n",
    "This will create 2 CSV files which we rename\n",
    "`FAOSTAT_food_data_UK_1961_2013.csv`\n",
    "`FAOSTAT_food_data_UK_2014_2019.csv`\n",
    "\n",
    "\n",
    "The FixOurFood dashboard presents dietary patterns and emissions estimated from food supply reported from FAO.\n",
    "Values for the UK are used here.\n",
    "    In this notebook, the values are extracted and stored in an easy to manage numpy file which is then read by the main dashboard script.\n",
    "    "
   ]
  },
  {
   "cell_type": "code",
   "execution_count": 2,
   "metadata": {},
   "outputs": [],
   "source": [
    "fbs_csv_1 = '../../data/food/FoodBalanceSheetsHistoric_E_All_Data_(Normalized).csv'\n",
    "fbs_csv_2 = '../../data/food/FoodBalanceSheets_E_All_Data_(Normalized).csv'"
   ]
  },
  {
   "cell_type": "code",
   "execution_count": 3,
   "metadata": {},
   "outputs": [],
   "source": [
    "fbs_1 = pd.read_csv(fbs_csv_1, encoding = 'latin1') # 1961 - 2013\n",
    "fbs_2 = pd.read_csv(fbs_csv_2, encoding = 'latin1') # 2010 - 2020\n",
    "\n",
    "# We will prefer new methodology over old, so will drop 2010-2013 year range from old data\n",
    "fbs_1 = fbs_1[fbs_1['Year'].isin(np.arange(1961, 2010))]\n",
    "\n",
    "fbs = pd.concat([fbs_1, fbs_2], ignore_index=True, sort=False)\n",
    "fbs = fbs[fbs['Area Code'] == 229]\n",
    "\n",
    "fbs = fbs[['Element', 'Element Code', 'Item', 'Item Code', 'Year', 'Unit', 'Value']]\n",
    "years = np.unique(fbs['Year'])"
   ]
  },
  {
   "cell_type": "markdown",
   "metadata": {},
   "source": [
    "'Rice and products' and 'Groundnuts' changed name and code from one methodology to another. We will keep the new codes and names\n",
    "\n",
    "'Miscellaneous', 'Milk - Excluding Butter' and 'Eggs' have two different measurement flags, each with a different 'Item Code'. Will keep the highest Item Code: 2948 & 2949 for the later two."
   ]
  },
  {
   "cell_type": "code",
   "execution_count": 4,
   "metadata": {},
   "outputs": [
    {
     "name": "stdout",
     "output_type": "stream",
     "text": [
      "Groundnuts: old code = 2556, new code = 2552\n",
      "Rice and products: old code = 2805, new code = 2807\n",
      "Milk codes: [2948 2848]\n",
      "Eggs codes: [2949 2744]\n"
     ]
    }
   ],
   "source": [
    "nuts_old_code = fbs_1[fbs_1['Item'] == 'Groundnuts (Shelled Eq)'].iloc[0]['Item Code']\n",
    "rice_old_code = fbs_1[fbs_1['Item'] == 'Rice (Milled Equivalent)'].iloc[0]['Item Code']\n",
    "\n",
    "nuts_new_code = fbs_2[fbs_2['Item'] == 'Groundnuts'].iloc[0]['Item Code']\n",
    "rice_new_code = fbs_2[fbs_2['Item'] == 'Rice and products'].iloc[0]['Item Code']\n",
    "\n",
    "milk_codes = pd.unique(fbs[fbs['Item'] == 'Milk - Excluding Butter']['Item Code'])\n",
    "eggs_codes = pd.unique(fbs[fbs['Item'] == 'Eggs']['Item Code'])\n",
    "\n",
    "\n",
    "print(f'Groundnuts: old code = {nuts_old_code}, new code = {nuts_new_code}')\n",
    "print(f'Rice and products: old code = {rice_old_code}, new code = {rice_new_code}')\n",
    "\n",
    "print('Milk codes:', milk_codes)\n",
    "print('Eggs codes:', eggs_codes)"
   ]
  },
  {
   "cell_type": "code",
   "execution_count": 5,
   "metadata": {
    "scrolled": false
   },
   "outputs": [],
   "source": [
    "# We'll rename some of the items due to changes in naming convention\n",
    "fbs.loc[fbs['Item Code'] == rice_old_code, 'Item'] = \"Rice and products\"\n",
    "fbs.loc[fbs['Item Code'] == rice_old_code, 'Item Code'] = rice_new_code\n",
    "\n",
    "fbs.loc[fbs['Item Code'] == nuts_old_code, 'Item'] = \"Groundnuts\"\n",
    "fbs.loc[fbs['Item Code'] == nuts_old_code, 'Item Code'] = nuts_new_code\n",
    "\n",
    "# Also, will remove the 'Miscellaneous' item as it has incomplete data\n",
    "fbs.drop(fbs.loc[fbs['Item'] == 'Miscellaneous'].index, inplace=True)\n",
    "\n",
    "# Also, will remove the 'Miscellaneous' item as it has incomplete data\n",
    "fbs.drop(fbs.loc[fbs['Item'] == 'Grand Total'].index, inplace=True)\n",
    "\n",
    "# Finally, drop all duplicates of Eggs and Milk\n",
    "fbs.drop(fbs.loc[fbs['Item Code'].isin([milk_codes[1], eggs_codes[1]])].index, inplace=True)\n"
   ]
  },
  {
   "cell_type": "markdown",
   "metadata": {},
   "source": [
    "Food items are identified by the `\"Item Code\"` column."
   ]
  },
  {
   "cell_type": "code",
   "execution_count": 6,
   "metadata": {
    "scrolled": false
   },
   "outputs": [
    {
     "name": "stdout",
     "output_type": "stream",
     "text": [
      "2501 Population\n",
      "2903 Vegetal Products\n",
      "2941 Animal Products\n",
      "2905 Cereals - Excluding Beer\n",
      "2511 Wheat and products\n",
      "2807 Rice and products\n",
      "2513 Barley and products\n",
      "2514 Maize and products\n",
      "2515 Rye and products\n",
      "2516 Oats\n",
      "2517 Millet and products\n",
      "2518 Sorghum and products\n",
      "2520 Cereals, Other\n",
      "2907 Starchy Roots\n",
      "2532 Cassava and products\n",
      "2531 Potatoes and products\n",
      "2533 Sweet potatoes\n",
      "2535 Yams\n",
      "2534 Roots, Other\n",
      "2908 Sugar Crops\n",
      "2536 Sugar cane\n",
      "2537 Sugar beet\n",
      "2909 Sugar & Sweeteners\n",
      "2542 Sugar (Raw Equivalent)\n",
      "2543 Sweeteners, Other\n",
      "2745 Honey\n",
      "2911 Pulses\n",
      "2546 Beans\n",
      "2547 Peas\n",
      "2549 Pulses, Other and products\n",
      "2912 Treenuts\n",
      "2551 Nuts and products\n",
      "2913 Oilcrops\n",
      "2555 Soyabeans\n",
      "2552 Groundnuts\n",
      "2557 Sunflower seed\n",
      "2558 Rape and Mustardseed\n",
      "2559 Cottonseed\n",
      "2560 Coconuts - Incl Copra\n",
      "2561 Sesame seed\n",
      "2562 Palm kernels\n",
      "2563 Olives (including preserved)\n",
      "2570 Oilcrops, Other\n",
      "2914 Vegetable Oils\n",
      "2571 Soyabean Oil\n",
      "2572 Groundnut Oil\n",
      "2573 Sunflowerseed Oil\n",
      "2574 Rape and Mustard Oil\n",
      "2575 Cottonseed Oil\n",
      "2576 Palmkernel Oil\n",
      "2577 Palm Oil\n",
      "2578 Coconut Oil\n",
      "2579 Sesameseed Oil\n",
      "2580 Olive Oil\n",
      "2582 Maize Germ Oil\n",
      "2586 Oilcrops Oil, Other\n",
      "2918 Vegetables\n",
      "2601 Tomatoes and products\n",
      "2602 Onions\n",
      "2605 Vegetables, other\n",
      "2919 Fruits - Excluding Wine\n",
      "2611 Oranges, Mandarines\n",
      "2612 Lemons, Limes and products\n",
      "2613 Grapefruit and products\n",
      "2614 Citrus, Other\n",
      "2615 Bananas\n",
      "2616 Plantains\n",
      "2617 Apples and products\n",
      "2618 Pineapples and products\n",
      "2619 Dates\n",
      "2620 Grapes and products (excl wine)\n",
      "2625 Fruits, other\n",
      "2922 Stimulants\n",
      "2630 Coffee and products\n",
      "2633 Cocoa Beans and products\n",
      "2635 Tea (including mate)\n",
      "2923 Spices\n",
      "2640 Pepper\n",
      "2641 Pimento\n",
      "2642 Cloves\n",
      "2645 Spices, Other\n",
      "2924 Alcoholic Beverages\n",
      "2655 Wine\n",
      "2656 Beer\n",
      "2657 Beverages, Fermented\n",
      "2658 Beverages, Alcoholic\n",
      "2659 Alcohol, Non-Food\n",
      "2943 Meat\n",
      "2731 Bovine Meat\n",
      "2732 Mutton & Goat Meat\n",
      "2733 Pigmeat\n",
      "2734 Poultry Meat\n",
      "2735 Meat, Other\n",
      "2945 Offals\n",
      "2736 Offals, Edible\n",
      "2946 Animal fats\n",
      "2740 Butter, Ghee\n",
      "2743 Cream\n",
      "2737 Fats, Animals, Raw\n",
      "2781 Fish, Body Oil\n",
      "2782 Fish, Liver Oil\n",
      "2949 Eggs\n",
      "2948 Milk - Excluding Butter\n",
      "2960 Fish, Seafood\n",
      "2761 Freshwater Fish\n",
      "2762 Demersal Fish\n",
      "2763 Pelagic Fish\n",
      "2764 Marine Fish, Other\n",
      "2765 Crustaceans\n",
      "2766 Cephalopods\n",
      "2767 Molluscs, Other\n",
      "2961 Aquatic Products, Other\n",
      "2769 Aquatic Animals, Others\n",
      "2775 Aquatic Plants\n",
      "2680 Infant food\n"
     ]
    }
   ],
   "source": [
    "item_names = pd.unique(fbs['Item'])\n",
    "item_codes = pd.unique(fbs['Item Code'])\n",
    "\n",
    "# print(len(item_names),len(item_codes))\n",
    "\n",
    "for name, code in zip(item_names, item_codes):\n",
    "    print(code, name)\n",
    "    \n",
    "# for code in item_codes:\n",
    "#     print(pd.unique(fbs[fbs['Item Code'] == code]['Item']), code)\n",
    "    \n",
    "# for name in item_names:\n",
    "#     print(pd.unique(fbs[fbs['Item'] == name]['Item Code']), name)"
   ]
  },
  {
   "cell_type": "markdown",
   "metadata": {},
   "source": [
    "Different information and values are encoded by the `\"Element code\"`:"
   ]
  },
  {
   "cell_type": "code",
   "execution_count": 7,
   "metadata": {
    "scrolled": true
   },
   "outputs": [
    {
     "name": "stdout",
     "output_type": "stream",
     "text": [
      "511 1000 persons Total Population - Both sexes\n",
      "664 kcal/capita/day Food supply (kcal/capita/day)\n",
      "674 g/capita/day Protein supply quantity (g/capita/day)\n",
      "684 g/capita/day Fat supply quantity (g/capita/day)\n",
      "5511 1000 tonnes Production\n",
      "5611 1000 tonnes Import Quantity\n",
      "5072 1000 tonnes Stock Variation\n",
      "5911 1000 tonnes Export Quantity\n",
      "5301 1000 tonnes Domestic supply quantity\n",
      "5521 1000 tonnes Feed\n",
      "5527 1000 tonnes Seed\n",
      "5123 1000 tonnes Losses\n",
      "5131 1000 tonnes Processing\n",
      "5154 1000 tonnes Other uses (non-food)\n",
      "5142 1000 tonnes Food\n",
      "645 kg Food supply quantity (kg/capita/yr)\n",
      "5171 1000 tonnes Tourist consumption\n",
      "5170 1000 tonnes Residuals\n"
     ]
    }
   ],
   "source": [
    "element_codes = pd.unique(fbs['Element Code'])\n",
    "element_names = pd.unique(fbs['Element'])\n",
    "element_units= []\n",
    "\n",
    "for code in element_codes:\n",
    "    unit = fbs[fbs['Element Code'] == code].iloc[0]['Unit']\n",
    "    element_units.append(unit)\n",
    "    \n",
    "for i, (code, name) in enumerate(zip(element_codes, element_names)):\n",
    "    print(code, element_units[i], name )\n"
   ]
  },
  {
   "cell_type": "markdown",
   "metadata": {},
   "source": [
    "We can plot, for instance, the Bovine meat supply (`Element Code == 5142`, `Item Code == 2731`) for the whole year period"
   ]
  },
  {
   "cell_type": "code",
   "execution_count": 8,
   "metadata": {},
   "outputs": [
    {
     "data": {
      "image/png": "[encoded data removed]",
      "text/plain": [
       "<Figure size 432x288 with 1 Axes>"
      ]
     },
     "metadata": {
      "needs_background": "light"
     },
     "output_type": "display_data"
    }
   ],
   "source": [
    "beef_supply = fbs[(fbs['Item Code'] == 2731) & (fbs['Element Code'] == 5142)]['Value']\n",
    "\n",
    "plt.plot(years, beef_supply)\n",
    "plt.xlabel('Year', size=15)\n",
    "plt.ylabel('Food supply [1000 tonnes]', size=15);\n"
   ]
  },
  {
   "cell_type": "markdown",
   "metadata": {},
   "source": [
    "# Fixing incomplete data\n",
    "\n",
    "Checking for incomplete data shows that several Items have been renamed between the two year ranges, and some items without certain nutrients are ommited.\n",
    "We will fix that to have a square array to facilitate usage."
   ]
  },
  {
   "cell_type": "code",
   "execution_count": 9,
   "metadata": {},
   "outputs": [
    {
     "name": "stdout",
     "output_type": "stream",
     "text": [
      "1961 1962 1963 1964 1965 1966 1967 1968 1969 1970 1971 1972 1973 1974 1975 1976 1977 1978 1979 1980 1981 1982 1983 1984 1985 1986 1987 1988 1989 1990 1991 1992 1993 1994 1995 1996 1997 1998 1999 2000 2001 2002 2003 2004 2005 2006 2007 2008 2009 2010 2011 2012 2013 2014 2015 2016 2017 2018 2019 "
     ]
    }
   ],
   "source": [
    "# We check which items have no information on protein or fat contents and fill in with zero values\n",
    "\n",
    "for year in years:\n",
    "    print(year, end = ' ')\n",
    "    for ec, ecode in enumerate(element_codes[1:]): # Wont be using Population\n",
    "        for ic, icode in enumerate(item_codes[1:]): # Wont be using Population or Grand Total\n",
    "            if fbs[(fbs['Year'] == year) & (fbs[\"Element Code\"] == ecode) & (fbs[\"Item Code\"] == icode)].empty:\n",
    "                newrow = {'Element':element_names[ec+1],\n",
    "                          'Element Code':ecode,\n",
    "                          'Item':item_names[ic+1],\n",
    "                          'Item Code':icode,\n",
    "                          'Year':year,\n",
    "                          'Unit':element_units[ec+1]}\n",
    "                fbs=fbs.append(newrow, ignore_index=True)\n"
   ]
  },
  {
   "cell_type": "markdown",
   "metadata": {},
   "source": [
    "# Food supply quantity per UN capita\n",
    "\n",
    "We will add an Element to quantify the food supply per capita per day\n",
    "\n",
    "- Food supply quantity UN population (kg/capita/day)\n",
    "\n",
    "which will simplify the computations of emissions in the dashboard.\n",
    "We will assign it a generic code `\"Element Code == 10004\"` for future identification\n",
    "To calculate it we will divide the total Food supply by the region population, multiply by the number of days on a year and number of kilograms on 1000 tonnes \n"
   ]
  },
  {
   "cell_type": "code",
   "execution_count": 10,
   "metadata": {},
   "outputs": [],
   "source": [
    "# Add new element to lists\n",
    "fbq_un_pop_name = 'Food supply quantity UN population (kg/capita/day)'\n",
    "element_names = np.append(element_names, fbq_un_pop_name)\n",
    "element_codes = np.append(element_codes, 10004)\n",
    "\n",
    "# We copy an element and redefine its element code and name\n",
    "fsq_un_pop = fbs[(fbs['Element Code']==5142)]\n",
    "kwargs = {'Element Code':10004, 'Element':fbq_un_pop_name}\n",
    "fsq_un_pop = fsq_un_pop.assign(**kwargs)"
   ]
  },
  {
   "cell_type": "code",
   "execution_count": 11,
   "metadata": {},
   "outputs": [],
   "source": [
    "# Append food supply per UN capita\n",
    "population = fbs[(fbs['Item Code'] == 2501) & (fbs['Element Code'] == 511)]['Value'].values"
   ]
  },
  {
   "cell_type": "code",
   "execution_count": 12,
   "metadata": {},
   "outputs": [],
   "source": [
    "for icode in item_codes[1:]:\n",
    "    f = fsq_un_pop[fsq_un_pop['Item Code'] == icode]['Value']\n",
    "    if len(f) == 59:\n",
    "        fsq_un_pop.loc[fsq_un_pop['Item Code'] == icode, 'Value'] = f * 1e6 / 365 / population / 1e3\n",
    "    \n",
    "fbs = fbs.append(fsq_un_pop, ignore_index=True)"
   ]
  },
  {
   "cell_type": "code",
   "execution_count": 13,
   "metadata": {},
   "outputs": [
    {
     "name": "stdout",
     "output_type": "stream",
     "text": [
      "(59, 7) 511 Total Population - Both sexes\n",
      "(6726, 7) 664 Food supply (kcal/capita/day)\n",
      "(6726, 7) 674 Protein supply quantity (g/capita/day)\n",
      "(6726, 7) 684 Fat supply quantity (g/capita/day)\n",
      "(6726, 7) 5511 Production\n",
      "(6726, 7) 5611 Import Quantity\n",
      "(6726, 7) 5072 Stock Variation\n",
      "(6726, 7) 5911 Export Quantity\n",
      "(6736, 7) 5301 Domestic supply quantity\n",
      "(6726, 7) 5521 Feed\n",
      "(6726, 7) 5527 Seed\n",
      "(6726, 7) 5123 Losses\n",
      "(6726, 7) 5131 Processing\n",
      "(6726, 7) 5154 Other uses (non-food)\n",
      "(6726, 7) 5142 Food\n",
      "(6726, 7) 645 Food supply quantity (kg/capita/yr)\n",
      "(6726, 7) 5171 Tourist consumption\n",
      "(6726, 7) 5170 Residuals\n",
      "(6726, 7) 10004 Food supply quantity UN population (kg/capita/day)\n"
     ]
    }
   ],
   "source": [
    "# Final check, do all element codes have the same dimensions?\n",
    "for code, codename in zip(element_codes, element_names):\n",
    "    f_un_pop = fbs[fbs['Element Code'] == code]\n",
    "    print(f_un_pop.shape,code,codename)"
   ]
  },
  {
   "cell_type": "code",
   "execution_count": 15,
   "metadata": {},
   "outputs": [],
   "source": [
    "fbs.to_csv('../../pyourfood/food/data/FAOSTAT.csv', index=False)"
   ]
  }
 ],
 "metadata": {
  "kernelspec": {
   "display_name": "Python 3",
   "language": "python",
   "name": "python3"
  },
  "language_info": {
   "codemirror_mode": {
    "name": "ipython",
    "version": 3
   },
   "file_extension": ".py",
   "mimetype": "text/x-python",
   "name": "python",
   "nbconvert_exporter": "python",
   "pygments_lexer": "ipython3",
   "version": "3.7.4"
  }
 },
 "nbformat": 4,
 "nbformat_minor": 2
}

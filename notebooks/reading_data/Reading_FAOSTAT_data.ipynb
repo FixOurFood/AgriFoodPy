{
 "cells": [
  {
   "cell_type": "code",
   "execution_count": 1,
   "metadata": {},
   "outputs": [],
   "source": [
    "import pandas as pd\n",
    "import numpy as np\n",
    "import matplotlib.pyplot as plt\n",
    "import calendar"
   ]
  },
  {
   "cell_type": "markdown",
   "metadata": {},
   "source": [
    "The FixOurFood Dashboard utilizes food supply data from FAOSTAT to describe dietary patterns and estimate their impact and the impact of interventions on multiple indicators derived from it.\n",
    "Latest FAOSTAT data can be downloaded from the FAO website:\n",
    "- https://www.fao.org/faostat/en/#data/FBSH for data released until 2013 utilizing old methodology\n",
    "- https://www.fao.org/faostat/en/#data/FBS for data published since 2014 utilizing new methodology\n",
    "\n",
    "The raw datasets are obtained directly from both sites using the following filtering:\n",
    "\n",
    "- Countries: United Kingdom of Great Britain and Northern Ireland\n",
    "- Elements: Food, Food supply, Food supply quantity, Fat supply quantity, Protein supply quantity \n",
    "- Items: Select all except *Population*\n",
    "- Years: Select all for FBSH and 2014-2019 for FBS \n",
    "\n",
    "This will create 2 CSV files which we rename\n",
    "`FAOSTAT_food_data_UK_1961_2013.csv`\n",
    "`FAOSTAT_food_data_UK_2014_2019.csv`\n",
    "\n",
    "\n",
    "The FixOurFood dashboard presents dietary patterns and emissions estimated from food supply reported from FAO.\n",
    "Values for the UK are used here.\n",
    "    In this notebook, the values are extracted and stored in an easy to manage numpy file which is then read by the main dashboard script.\n",
    "    "
   ]
  },
  {
   "cell_type": "code",
   "execution_count": 2,
   "metadata": {},
   "outputs": [],
   "source": [
    "fbs_csv_1 = '../../data/food/FAOSTAT_food_data_UK_1961_2013.csv'\n",
    "fbs_csv_2 = '../../data/food/FAOSTAT_food_data_UK_2014_2019.csv'"
   ]
  },
  {
   "cell_type": "code",
   "execution_count": 3,
   "metadata": {},
   "outputs": [],
   "source": [
    "fbs_1 = pd.read_csv(fbs_csv_1)\n",
    "fbs_2 = pd.read_csv(fbs_csv_2)\n",
    "\n",
    "fbs = pd.concat([fbs_1, fbs_2], ignore_index=True, sort=False)\n",
    "fbs = fbs[['Element', 'Element Code', 'Item', 'Item Code', 'Year', 'Value']]\n",
    "years = np.unique(fbs['Year'])"
   ]
  },
  {
   "cell_type": "code",
   "execution_count": 4,
   "metadata": {},
   "outputs": [
    {
     "data": {
      "text/html": [
       "<div>\n",
       "<style scoped>\n",
       "    .dataframe tbody tr th:only-of-type {\n",
       "        vertical-align: middle;\n",
       "    }\n",
       "\n",
       "    .dataframe tbody tr th {\n",
       "        vertical-align: top;\n",
       "    }\n",
       "\n",
       "    .dataframe thead th {\n",
       "        text-align: right;\n",
       "    }\n",
       "</style>\n",
       "<table border=\"1\" class=\"dataframe\">\n",
       "  <thead>\n",
       "    <tr style=\"text-align: right;\">\n",
       "      <th></th>\n",
       "      <th>Element</th>\n",
       "      <th>Element Code</th>\n",
       "      <th>Item</th>\n",
       "      <th>Item Code</th>\n",
       "      <th>Year</th>\n",
       "      <th>Value</th>\n",
       "    </tr>\n",
       "  </thead>\n",
       "  <tbody>\n",
       "    <tr>\n",
       "      <th>0</th>\n",
       "      <td>Total Population - Both sexes</td>\n",
       "      <td>511</td>\n",
       "      <td>Population</td>\n",
       "      <td>2501</td>\n",
       "      <td>1961</td>\n",
       "      <td>53054.00</td>\n",
       "    </tr>\n",
       "    <tr>\n",
       "      <th>1</th>\n",
       "      <td>Total Population - Both sexes</td>\n",
       "      <td>511</td>\n",
       "      <td>Population</td>\n",
       "      <td>2501</td>\n",
       "      <td>1962</td>\n",
       "      <td>53425.00</td>\n",
       "    </tr>\n",
       "    <tr>\n",
       "      <th>2</th>\n",
       "      <td>Total Population - Both sexes</td>\n",
       "      <td>511</td>\n",
       "      <td>Population</td>\n",
       "      <td>2501</td>\n",
       "      <td>1963</td>\n",
       "      <td>53802.00</td>\n",
       "    </tr>\n",
       "    <tr>\n",
       "      <th>3</th>\n",
       "      <td>Total Population - Both sexes</td>\n",
       "      <td>511</td>\n",
       "      <td>Population</td>\n",
       "      <td>2501</td>\n",
       "      <td>1964</td>\n",
       "      <td>54170.00</td>\n",
       "    </tr>\n",
       "    <tr>\n",
       "      <th>4</th>\n",
       "      <td>Total Population - Both sexes</td>\n",
       "      <td>511</td>\n",
       "      <td>Population</td>\n",
       "      <td>2501</td>\n",
       "      <td>1965</td>\n",
       "      <td>54516.00</td>\n",
       "    </tr>\n",
       "    <tr>\n",
       "      <th>...</th>\n",
       "      <td>...</td>\n",
       "      <td>...</td>\n",
       "      <td>...</td>\n",
       "      <td>...</td>\n",
       "      <td>...</td>\n",
       "      <td>...</td>\n",
       "    </tr>\n",
       "    <tr>\n",
       "      <th>23721</th>\n",
       "      <td>Fat supply quantity (g/capita/day)</td>\n",
       "      <td>684</td>\n",
       "      <td>Infant food</td>\n",
       "      <td>2680</td>\n",
       "      <td>2015</td>\n",
       "      <td>0.10</td>\n",
       "    </tr>\n",
       "    <tr>\n",
       "      <th>23722</th>\n",
       "      <td>Fat supply quantity (g/capita/day)</td>\n",
       "      <td>684</td>\n",
       "      <td>Infant food</td>\n",
       "      <td>2680</td>\n",
       "      <td>2016</td>\n",
       "      <td>0.10</td>\n",
       "    </tr>\n",
       "    <tr>\n",
       "      <th>23723</th>\n",
       "      <td>Fat supply quantity (g/capita/day)</td>\n",
       "      <td>684</td>\n",
       "      <td>Infant food</td>\n",
       "      <td>2680</td>\n",
       "      <td>2017</td>\n",
       "      <td>0.08</td>\n",
       "    </tr>\n",
       "    <tr>\n",
       "      <th>23724</th>\n",
       "      <td>Fat supply quantity (g/capita/day)</td>\n",
       "      <td>684</td>\n",
       "      <td>Infant food</td>\n",
       "      <td>2680</td>\n",
       "      <td>2018</td>\n",
       "      <td>0.05</td>\n",
       "    </tr>\n",
       "    <tr>\n",
       "      <th>23725</th>\n",
       "      <td>Fat supply quantity (g/capita/day)</td>\n",
       "      <td>684</td>\n",
       "      <td>Infant food</td>\n",
       "      <td>2680</td>\n",
       "      <td>2019</td>\n",
       "      <td>0.06</td>\n",
       "    </tr>\n",
       "  </tbody>\n",
       "</table>\n",
       "<p>23567 rows × 6 columns</p>\n",
       "</div>"
      ],
      "text/plain": [
       "                                  Element  Element Code         Item  \\\n",
       "0           Total Population - Both sexes           511   Population   \n",
       "1           Total Population - Both sexes           511   Population   \n",
       "2           Total Population - Both sexes           511   Population   \n",
       "3           Total Population - Both sexes           511   Population   \n",
       "4           Total Population - Both sexes           511   Population   \n",
       "...                                   ...           ...          ...   \n",
       "23721  Fat supply quantity (g/capita/day)           684  Infant food   \n",
       "23722  Fat supply quantity (g/capita/day)           684  Infant food   \n",
       "23723  Fat supply quantity (g/capita/day)           684  Infant food   \n",
       "23724  Fat supply quantity (g/capita/day)           684  Infant food   \n",
       "23725  Fat supply quantity (g/capita/day)           684  Infant food   \n",
       "\n",
       "       Item Code  Year     Value  \n",
       "0           2501  1961  53054.00  \n",
       "1           2501  1962  53425.00  \n",
       "2           2501  1963  53802.00  \n",
       "3           2501  1964  54170.00  \n",
       "4           2501  1965  54516.00  \n",
       "...          ...   ...       ...  \n",
       "23721       2680  2015      0.10  \n",
       "23722       2680  2016      0.10  \n",
       "23723       2680  2017      0.08  \n",
       "23724       2680  2018      0.05  \n",
       "23725       2680  2019      0.06  \n",
       "\n",
       "[23567 rows x 6 columns]"
      ]
     },
     "execution_count": 4,
     "metadata": {},
     "output_type": "execute_result"
    }
   ],
   "source": [
    "# We'll rename some of the items due to changes in naming convention\n",
    "fbs.loc[fbs['Item Code'] == 2805, 'Item'] = \"Rice and Products\"\n",
    "fbs.loc[fbs['Item Code'] == 2807, 'Item Code'] = 2805\n",
    "\n",
    "fbs.loc[fbs['Item Code'] == 2552, 'Item'] = \"Groundnuts (Shelled Eq)\"\n",
    "fbs.loc[fbs['Item Code'] == 2552, 'Item Code'] = 2556\n",
    "\n",
    "# Also, will remove the 'Miscellaneous' item as it has incomplete data\n",
    "fbs.drop(fbs.loc[fbs['Item Code'] == 2899].index, inplace=True)\n",
    "fbs"
   ]
  },
  {
   "cell_type": "markdown",
   "metadata": {},
   "source": [
    "Food items are identified by the `\"Item Code\"` column."
   ]
  },
  {
   "cell_type": "code",
   "execution_count": 5,
   "metadata": {},
   "outputs": [
    {
     "name": "stdout",
     "output_type": "stream",
     "text": [
      "2501 Population\n",
      "2511 Wheat and products\n",
      "2513 Barley and products\n",
      "2514 Maize and products\n",
      "2515 Rye and products\n",
      "2516 Oats\n",
      "2520 Cereals, Other\n",
      "2531 Potatoes and products\n",
      "2534 Roots, Other\n",
      "2535 Yams\n",
      "2542 Sugar (Raw Equivalent)\n",
      "2543 Sweeteners, Other\n",
      "2546 Beans\n",
      "2547 Peas\n",
      "2549 Pulses, Other and products\n",
      "2551 Nuts and products\n",
      "2555 Soyabeans\n",
      "2556 Groundnuts (Shelled Eq)\n",
      "2558 Rape and Mustardseed\n",
      "2560 Coconuts - Incl Copra\n",
      "2561 Sesame seed\n",
      "2563 Olives (including preserved)\n",
      "2570 Oilcrops, Other\n",
      "2571 Soyabean Oil\n",
      "2572 Groundnut Oil\n",
      "2573 Sunflowerseed Oil\n",
      "2574 Rape and Mustard Oil\n",
      "2575 Cottonseed Oil\n",
      "2576 Palmkernel Oil\n",
      "2577 Palm Oil\n",
      "2578 Coconut Oil\n",
      "2579 Sesameseed Oil\n",
      "2580 Olive Oil\n",
      "2582 Maize Germ Oil\n",
      "2586 Oilcrops Oil, Other\n",
      "2601 Tomatoes and products\n",
      "2602 Onions\n",
      "2605 Vegetables, other\n",
      "2611 Oranges, Mandarines\n",
      "2612 Lemons, Limes and products\n",
      "2613 Grapefruit and products\n",
      "2614 Citrus, Other\n",
      "2615 Bananas\n",
      "2616 Plantains\n",
      "2617 Apples and products\n",
      "2618 Pineapples and products\n",
      "2619 Dates\n",
      "2620 Grapes and products (excl wine)\n",
      "2625 Fruits, other\n",
      "2630 Coffee and products\n",
      "2633 Cocoa Beans and products\n",
      "2635 Tea (including mate)\n",
      "2640 Pepper\n",
      "2641 Pimento\n",
      "2642 Cloves\n",
      "2645 Spices, Other\n",
      "2655 Wine\n",
      "2656 Beer\n",
      "2657 Beverages, Fermented\n",
      "2658 Beverages, Alcoholic\n",
      "2680 Infant food\n",
      "2731 Bovine Meat\n",
      "2732 Mutton & Goat Meat\n",
      "2733 Pigmeat\n",
      "2734 Poultry Meat\n",
      "2735 Meat, Other\n",
      "2736 Offals, Edible\n",
      "2737 Fats, Animals, Raw\n",
      "2740 Butter, Ghee\n",
      "2743 Cream\n",
      "2744 Eggs\n",
      "2745 Honey\n",
      "2761 Freshwater Fish\n",
      "2762 Demersal Fish\n",
      "2763 Pelagic Fish\n",
      "2764 Marine Fish, Other\n",
      "2765 Crustaceans\n",
      "2766 Cephalopods\n",
      "2767 Molluscs, Other\n",
      "2769 Aquatic Animals, Others\n",
      "2775 Aquatic Plants\n",
      "2781 Fish, Body Oil\n",
      "2782 Fish, Liver Oil\n",
      "2805 Rice and Products\n",
      "2848 Milk - Excluding Butter\n"
     ]
    }
   ],
   "source": [
    "item_names = []\n",
    "item_codes = np.unique(fbs['Item Code'])\n",
    "for code in item_codes:\n",
    "    item_names.append(fbs[fbs['Item Code'] == code]['Item'].iloc[0])\n",
    "    print(code, item_names[-1])"
   ]
  },
  {
   "cell_type": "markdown",
   "metadata": {},
   "source": [
    "Different information and values are encoded by the `\"Element code\"`:"
   ]
  },
  {
   "cell_type": "code",
   "execution_count": 6,
   "metadata": {},
   "outputs": [
    {
     "name": "stdout",
     "output_type": "stream",
     "text": [
      "511 Total Population - Both sexes\n",
      "645 Food supply quantity (kg/capita/yr)\n",
      "664 Food supply (kcal/capita/day)\n",
      "674 Protein supply quantity (g/capita/day)\n",
      "684 Fat supply quantity (g/capita/day)\n",
      "5142 Food\n"
     ]
    }
   ],
   "source": [
    "element_names = []\n",
    "element_codes = np.unique(fbs['Element Code'])\n",
    "for code in element_codes:\n",
    "    element_names.append(fbs[fbs['Element Code'] == code]['Element'].iloc[0])\n",
    "    print(code, element_names[-1])"
   ]
  },
  {
   "cell_type": "markdown",
   "metadata": {},
   "source": [
    "We can plot, for instance, the Bovine meat supply (`Element Code == 5142`, `Item Code == 2731`) fpr the whole year period"
   ]
  },
  {
   "cell_type": "code",
   "execution_count": 7,
   "metadata": {},
   "outputs": [
    {
     "data": {
      "image/png": "[encoded data removed]",
      "text/plain": [
       "<Figure size 432x288 with 1 Axes>"
      ]
     },
     "metadata": {
      "needs_background": "light"
     },
     "output_type": "display_data"
    }
   ],
   "source": [
    "beef_supply = fbs[(fbs['Item Code'] == 2731) & (fbs['Element Code'] == 5142)]['Value']\n",
    "\n",
    "plt.plot(years, beef_supply)\n",
    "plt.xlabel('Year', size=15)\n",
    "plt.ylabel('Food supply [1000 tonnes]', size=15);\n"
   ]
  },
  {
   "cell_type": "markdown",
   "metadata": {},
   "source": [
    "# Fixing incomplete data\n",
    "\n",
    "Checking for incomplete data shows that several Items have been renamed between the two year ranges, and some items without certain nutrients are ommited.\n",
    "We will fix that to have a consistent array."
   ]
  },
  {
   "cell_type": "code",
   "execution_count": 8,
   "metadata": {},
   "outputs": [
    {
     "name": "stdout",
     "output_type": "stream",
     "text": [
      "674 2542 Sugar (Raw Equivalent)  does not have Protein supply quantity (g/capita/day) for 1961-2013 range\n",
      "674 2571 Soyabean Oil  does not have Protein supply quantity (g/capita/day) for 1961-2013 range\n",
      "674 2572 Groundnut Oil  does not have Protein supply quantity (g/capita/day) for 1961-2013 range\n",
      "674 2573 Sunflowerseed Oil  does not have Protein supply quantity (g/capita/day) for 1961-2013 range\n",
      "674 2574 Rape and Mustard Oil  does not have Protein supply quantity (g/capita/day) for 1961-2013 range\n",
      "674 2575 Cottonseed Oil  does not have Protein supply quantity (g/capita/day) for 1961-2013 range\n",
      "674 2576 Palmkernel Oil  does not have Protein supply quantity (g/capita/day) for 1961-2013 range\n",
      "674 2577 Palm Oil  does not have Protein supply quantity (g/capita/day) for 1961-2013 range\n",
      "674 2578 Coconut Oil  does not have Protein supply quantity (g/capita/day) for 1961-2013 range\n",
      "674 2579 Sesameseed Oil  does not have Protein supply quantity (g/capita/day) for 1961-2013 range\n",
      "674 2580 Olive Oil  does not have Protein supply quantity (g/capita/day) for 1961-2013 range\n",
      "674 2582 Maize Germ Oil  does not have Protein supply quantity (g/capita/day) for 1961-2013 range\n",
      "674 2658 Beverages, Alcoholic  does not have Protein supply quantity (g/capita/day) for 1961-2013 range\n",
      "674 2737 Fats, Animals, Raw  does not have Protein supply quantity (g/capita/day) for 1961-2013 range\n",
      "684 2534 Roots, Other  does not have Fat supply quantity (g/capita/day) for 1961-2013 range\n",
      "684 2542 Sugar (Raw Equivalent)  does not have Fat supply quantity (g/capita/day) for 1961-2013 range\n",
      "684 2543 Sweeteners, Other  does not have Fat supply quantity (g/capita/day) for 1961-2013 range\n",
      "684 2630 Coffee and products  does not have Fat supply quantity (g/capita/day) for 1961-2013 range\n",
      "684 2635 Tea (including mate)  does not have Fat supply quantity (g/capita/day) for 1961-2013 range\n",
      "684 2655 Wine  does not have Fat supply quantity (g/capita/day) for 1961-2013 range\n",
      "684 2656 Beer  does not have Fat supply quantity (g/capita/day) for 1961-2013 range\n",
      "684 2657 Beverages, Fermented  does not have Fat supply quantity (g/capita/day) for 1961-2013 range\n",
      "684 2658 Beverages, Alcoholic  does not have Fat supply quantity (g/capita/day) for 1961-2013 range\n",
      "684 2745 Honey  does not have Fat supply quantity (g/capita/day) for 1961-2013 range\n"
     ]
    }
   ],
   "source": [
    "# We check which items have no information on protein or fat contents and fill in with zero values\n",
    "\n",
    "for j, ecode in enumerate(element_codes[3:5]):\n",
    "    food = fbs[fbs['Element Code'] == ecode]\n",
    "    for i, icode in enumerate(item_codes):\n",
    "        if food[food['Item Code'] == icode].shape[0] == 6:\n",
    "            print(ecode, icode, item_names[i],f' does not have {element_names[j+3]} for 1961-2013 range')\n",
    "        elif food[food['Item Code'] == icode].shape[0] == 53:\n",
    "            print(ecode, icode, item_names[i],f' does not have {element_names[j+3]} for 2014-2019 range')\n"
   ]
  },
  {
   "cell_type": "code",
   "execution_count": 9,
   "metadata": {},
   "outputs": [
    {
     "data": {
      "text/plain": [
       "Element         Fat supply quantity (g/capita/day)\n",
       "Element Code                                   684\n",
       "Item                                         Honey\n",
       "Item Code                                     2745\n",
       "Year                                          2013\n",
       "Value                                          0.0\n",
       "Name: 24838, dtype: object"
      ]
     },
     "execution_count": 9,
     "metadata": {},
     "output_type": "execute_result"
    }
   ],
   "source": [
    "# We check which items (Except population, 2501) have no information on protein or fat contents and fill in with zero values\n",
    "\n",
    "for year in years:\n",
    "    for j, ecode in enumerate(element_codes[3:5]):\n",
    "        for i, icode in enumerate(item_codes):\n",
    "            if icode != 2501 and fbs[(fbs['Year'] == year) & (fbs[\"Element Code\"] == ecode) & (fbs[\"Item Code\"] == icode)].empty:\n",
    "                newrow = {'Element':element_names[j+3],\n",
    "                          'Element Code':ecode,\n",
    "                          'Item':item_names[i],\n",
    "                          'Item Code':icode,\n",
    "                          'Year':year,\n",
    "                          'Value':0,}\n",
    "                fbs=fbs.append(newrow, ignore_index=True)\n",
    "\n",
    "# Check that the last element is of the 'Fat supply for Honey' type\n",
    "fbs.iloc[-1]"
   ]
  },
  {
   "cell_type": "markdown",
   "metadata": {},
   "source": [
    "# Food supply quantity per UN capita\n",
    "\n",
    "We will add an Element to quantify the food supply per capita per day\n",
    "\n",
    "- Food supply quantity UN population (kg/capita/day)\n",
    "\n",
    "which will simplify the computations of emissions in the dashboard.\n",
    "We will assign it a generic code `\"Element Code == 10004\"` for future identification\n",
    "To calculate it we will divide the total Food supply by the region population, multiply by the number of days on a year and number of kilograms on 1000 tonnes \n"
   ]
  },
  {
   "cell_type": "code",
   "execution_count": 10,
   "metadata": {},
   "outputs": [],
   "source": [
    "# Add new element to lists\n",
    "fbq_un_pop_name = 'Food supply quantity UN population (kg/capita/day)'\n",
    "element_names = np.append(element_names, fbq_un_pop_name)\n",
    "element_codes = np.append(element_codes, 10004)\n",
    "\n",
    "# We copy an element and redefine its element code and name\n",
    "fsq_un_pop = fbs[(fbs['Element Code']==5142)]\n",
    "kwargs = {'Element Code':10004, 'Element':fbq_un_pop_name}\n",
    "fsq_un_pop = fsq_un_pop.assign(**kwargs)"
   ]
  },
  {
   "cell_type": "code",
   "execution_count": 11,
   "metadata": {},
   "outputs": [],
   "source": [
    "# Append food supply per UN capita\n",
    "population = fbs[fbs['Item Code'] == 2501]['Value'].values\n",
    "\n",
    "for icode in item_codes[1:]:\n",
    "    f = fsq_un_pop[fsq_un_pop['Item Code'] == icode]['Value']\n",
    "    fsq_un_pop.loc[fsq_un_pop['Item Code'] == icode, 'Value'] = f * 1e6 / 365 / population / 1e3\n",
    "    \n",
    "fbs = fbs.append(fsq_un_pop, ignore_index=True)"
   ]
  },
  {
   "cell_type": "code",
   "execution_count": 12,
   "metadata": {},
   "outputs": [
    {
     "name": "stdout",
     "output_type": "stream",
     "text": [
      "(59, 6) 511 Total Population - Both sexes\n",
      "(4956, 6) 645 Food supply quantity (kg/capita/yr)\n",
      "(4956, 6) 664 Food supply (kcal/capita/day)\n",
      "(4956, 6) 674 Protein supply quantity (g/capita/day)\n",
      "(4956, 6) 684 Fat supply quantity (g/capita/day)\n",
      "(4956, 6) 5142 Food\n",
      "(4956, 6) 10004 Food supply quantity UN population (kg/capita/day)\n"
     ]
    }
   ],
   "source": [
    "# Final check, do all element codes have the same dimensions?\n",
    "for code, codename in zip(element_codes, element_names):\n",
    "    f_un_pop = fbs[fbs['Element Code'] == code]\n",
    "    print(f_un_pop.shape,code,codename)"
   ]
  },
  {
   "cell_type": "code",
   "execution_count": 13,
   "metadata": {},
   "outputs": [],
   "source": [
    "fbs.to_csv('../../data/food/food_supply_data.csv', index=False)"
   ]
  }
 ],
 "metadata": {
  "kernelspec": {
   "display_name": "Python 3",
   "language": "python",
   "name": "python3"
  },
  "language_info": {
   "codemirror_mode": {
    "name": "ipython",
    "version": 3
   },
   "file_extension": ".py",
   "mimetype": "text/x-python",
   "name": "python",
   "nbconvert_exporter": "python",
   "pygments_lexer": "ipython3",
   "version": "3.7.11"
  }
 },
 "nbformat": 4,
 "nbformat_minor": 2
}
